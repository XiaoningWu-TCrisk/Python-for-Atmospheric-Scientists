{
 "cells": [
  {
   "cell_type": "markdown",
   "id": "b58a6dbb",
   "metadata": {},
   "source": [
    "# Writing your own PDF handler to merge, split and extract PDF files\n",
    "\n",
    "### Motivations of using Python:\n",
    "- free and safe\n",
    "- fast for handling massive files\n",
    "- flexible, powerful and independent\n",
    "\n",
    "### Here I share two small but very useful functions I wrote based on the [PyPDF2](https://pypi.org/project/PyPDF2/) package:\n",
    "- merge_pdf\n",
    "- split_pdf\n",
    "\n",
    "This is because merging and splitting PDFs are the most freqently needed based on my experience. You can wrap these functions in a small package, for example called ```pdfhandler```. Then you can use functions from this script directly via: ```from pdfhandler import xxx```. Or you can just copy and paste the codes when you need them. But make sure the ```PyPDF2``` package is installed in advance in both cases. There are many other Python packages to work with PDFs, you can develop your own codes to solve your problems with handling PDF files."
   ]
  },
  {
   "cell_type": "code",
   "execution_count": 1,
   "id": "df468022",
   "metadata": {},
   "outputs": [],
   "source": [
    "# create a function to merge a list of pdfs in order (merge process = \"append\" + \"save out\")\n",
    "def merge_pdf(pdfs_list,output_filename):\n",
    "    '''Input the filenames of a list of pdfs, combine them into a single pdf with the specified name, \n",
    "       keeping the default input order.'''  \n",
    "    # initialize the tool for merging pdf (\"merger\" here)\n",
    "    from PyPDF2 import PdfFileMerger\n",
    "    merger = PdfFileMerger()\n",
    "    # append each input pdf together\n",
    "    for pdf in pdfs_list:\n",
    "        merger.append(pdf)\n",
    "    # save out the combined file\n",
    "    merger.write(str(output_filename)+'.pdf')\n",
    "    merger.close()\n",
    "\n",
    "# create a function to split a multi-pages pdf and save out each selected page as a separate pdf\n",
    "def split_pdf(input_pdf,output_filename,target_pages=None):\n",
    "    '''Input a single pdf filename, save out each page as a separate pdf by default.\n",
    "       Or you can provide selected page numbers in a list (just use the natural page number in the file).\n",
    "       Outpout filenames are \"Your filename + page number\"'''\n",
    "    # import the tools needed\n",
    "    from PyPDF2 import PdfFileWriter, PdfFileReader\n",
    "    # read the input pdf\n",
    "    inputpdf = PdfFileReader(open(input_pdf, \"rb\"))\n",
    "    # save out each page if no arguments are provided\n",
    "    # or save out the requested target pages\n",
    "    # when providing the target pages, just use the natural page number in the file\n",
    "    # they are converted to Python indice in the codes\n",
    "    if target_pages is None:\n",
    "        output_pages = range(inputpdf.numPages)\n",
    "    else: \n",
    "        output_pages = [x - 1 for x in target_pages]\n",
    "    # loop over all pages or requested ones only, then save out each page\n",
    "    for i in output_pages:\n",
    "        output = PdfFileWriter()\n",
    "        output.addPage(inputpdf.getPage(i))\n",
    "        with open(str(output_filename)+'_page_%s.pdf' % int(i+1), \"wb\") as outputStream:\n",
    "             output.write(outputStream)"
   ]
  },
  {
   "cell_type": "markdown",
   "id": "1956e8de",
   "metadata": {},
   "source": [
    "### Here I show some examples of how to use these two functions:"
   ]
  },
  {
   "cell_type": "code",
   "execution_count": null,
   "id": "3c15834e",
   "metadata": {},
   "outputs": [],
   "source": [
    "##############################################################################################\n",
    "# set up working directory\n",
    "import os \n",
    "os.chdir('your working directory')\n",
    "\n",
    "# get the list of pdf files\n",
    "\n",
    "# when there are few files to merge, you can provide their names in list mannually\n",
    "pdfs_files = ['test1.pdf','test2.pdf','test3.pdf']\n",
    "\n",
    "# then you just need one line to merge them together\n",
    "merge_pdf(pdf_files,\"combined_pdf_test1.pdf\")"
   ]
  },
  {
   "cell_type": "code",
   "execution_count": null,
   "id": "7813a2dd",
   "metadata": {},
   "outputs": [],
   "source": [
    "##############################################################################################\n",
    "# if you want to merge massive files in a directory\n",
    "# you can use Python tricks to find out PDF files, the key is to play around the \"string\"\n",
    "# for example, you can first get the string for each file name, then use \"str.startswith\", \"str.endswith\"\n",
    "\n",
    "# list all files within this directory\n",
    "all_files = os.listdir()\n",
    "\n",
    "# here we write some codes to identify all PDF files in a directory\n",
    "pdf_files = []\n",
    "\n",
    "# loop over all files\n",
    "for file in all_files:\n",
    "    # get the strings for each file\n",
    "    filename = os.fsdecode(file) \n",
    "    #  only add the file to your list if it is a pdf\n",
    "    if filename.endswith('.pdf') == True: \n",
    "        pdf_files.append(filename)\n",
    "\n",
    "# sort the files to decide their order \n",
    "pdf_files.sort()\n",
    "\n",
    "# check the files and their order\n",
    "for file in pdf_files:\n",
    "    print(file,sep='\\n')\n",
    "        \n",
    "# now you just need one line to merge them together\n",
    "merge_pdf(pdf_files,\"combined_pdf_test2.pdf\")"
   ]
  },
  {
   "cell_type": "code",
   "execution_count": 3,
   "id": "3076d4fd",
   "metadata": {},
   "outputs": [
    {
     "data": {
      "text/plain": [
       "['test1_page_1.pdf',\n",
       " 'test1_page_2.pdf',\n",
       " 'test1_page_3.pdf',\n",
       " 'test1_page_4.pdf',\n",
       " 'test1_page_5.pdf',\n",
       " 'test1_page_6.pdf',\n",
       " 'test1_page_7.pdf',\n",
       " 'test1_page_8.pdf',\n",
       " 'test1_page_9.pdf',\n",
       " 'test1_page_10.pdf']"
      ]
     },
     "metadata": {},
     "output_type": "display_data"
    }
   ],
   "source": [
    "##############################################################################################\n",
    "# split a PDF file with multiple pages\n",
    "split_pdf('test1.pdf',\"test1\")\n",
    "\n",
    "# then check outputs in your working directory\n",
    "import glob\n",
    "import re\n",
    "\n",
    "test = glob.glob(\"test1_page*\")\n",
    "test.sort(key=lambda var:[int(x) if x.isdigit() else x for x in re.findall(r'[^0-9]|[0-9]+', var)])\n",
    "display(test)"
   ]
  },
  {
   "cell_type": "markdown",
   "id": "94ca8280",
   "metadata": {},
   "source": [
    "### You can further improve these two functions by adding new arguments. I haven't  done so, because these two basic functions already meet my needs. Here I show two examples of what you can achieve:"
   ]
  },
  {
   "cell_type": "code",
   "execution_count": null,
   "id": "54baf074",
   "metadata": {},
   "outputs": [],
   "source": [
    "# only combine the first 3 pages from each file\n",
    "merger = PdfFileMerger()\n",
    "\n",
    "for pdf in pdfs:\n",
    "    merger.append(pdf,pages=(0,3)) \n",
    "    \n",
    "merger.write(\"combined_pdf_test2.pdf\")\n",
    "merger.close()\n",
    "  \n",
    "# only combine pages 1,3,5 from each input pdf file\n",
    "merger = PdfFileMerger()\n",
    "\n",
    "for pdf in pdfs:\n",
    "    merger.append(pdf, pages=(0,6,2)) # (start,end,sep)\n",
    "    \n",
    "merger.write(\"combined_pdf_test3.pdf\")\n",
    "merger.close()"
   ]
  },
  {
   "cell_type": "markdown",
   "id": "29915657",
   "metadata": {},
   "source": [
    "### There are more than one Python packages which can manipulate PDF. You can build functions according to your research needs. For example, you can [merge two pages into one](https://stackoverflow.com/questions/22795091/how-to-append-pdf-pages-using-pypdf2), [convert PDFs to images](https://stackoverflow.com/questions/46184239/extract-a-page-from-a-pdf-as-a-jpeg) and [scrape data from PDFs](https://medium.com/codestorm/how-to-read-and-scrape-data-from-pdf-file-using-python-2f2a2fe73ae7). "
   ]
  }
 ],
 "metadata": {
  "kernelspec": {
   "display_name": "Python 3 (ipykernel)",
   "language": "python",
   "name": "python3"
  },
  "language_info": {
   "codemirror_mode": {
    "name": "ipython",
    "version": 3
   },
   "file_extension": ".py",
   "mimetype": "text/x-python",
   "name": "python",
   "nbconvert_exporter": "python",
   "pygments_lexer": "ipython3",
   "version": "3.9.7"
  }
 },
 "nbformat": 4,
 "nbformat_minor": 5
}
