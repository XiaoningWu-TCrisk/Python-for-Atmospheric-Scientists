{
 "cells": [
  {
   "cell_type": "markdown",
   "id": "2bd80cfa",
   "metadata": {},
   "source": [
    "# Generating animated GIFs for research presentations\n",
    "\n",
    "### Motivations of using Python:\n",
    "- free and safe\n",
    "- fast for handling massive files\n",
    "- flexible, powerful and independent\n",
    "\n",
    "### What about those free online tools?\n",
    "- not always safe\n",
    "- limitations in maximum number of files, file size, pixel number or output file aspect ratio\n",
    "- time consuming when processing massive files or high resolution images"
   ]
  },
  {
   "cell_type": "code",
   "execution_count": null,
   "id": "defb1994",
   "metadata": {},
   "outputs": [],
   "source": [
    "##############################################################################################\n",
    "# Step 1: find the images needed for making the GIFs\n",
    "\n",
    "# as an example, imagine we are using \"London_NO2\" images\n",
    "\n",
    "# move to the directory\n",
    "# find images files for \"London_NO2\"\n",
    "# check the results\n",
    "# sort them if necessary\n",
    "\n",
    "import os\n",
    "import glob\n",
    "\n",
    "os.chdir(\"your working directory\")\n",
    "image_files = glob.glob(\"London_NO2*\")\n",
    "display(image_files)"
   ]
  },
  {
   "cell_type": "code",
   "execution_count": null,
   "id": "27c9cb32",
   "metadata": {},
   "outputs": [],
   "source": [
    "##############################################################################################\n",
    "# Step 2: read each image and save out as GIFs\n",
    "\n",
    "# Solution 1: \"imageio\"\n",
    "import imageio\n",
    "\n",
    "# read each image\n",
    "images = [imageio.imread(file) for file in image_files]\n",
    "\n",
    "# save out as a GIFs with duration of each frame specified in seconds\n",
    "imageio.mimsave(os.path.join('London_NO2_test1.gif'),images,duration = 1) "
   ]
  },
  {
   "cell_type": "code",
   "execution_count": null,
   "id": "6242665c",
   "metadata": {},
   "outputs": [],
   "source": [
    "##############################################################################################\n",
    "# Solution 2: \"PIL\" \n",
    "from PIL import Image  \n",
    "\n",
    "# read each image\n",
    "img,*imgs = [Image.open(f) for f in image_files]\n",
    "\n",
    "# save out as a GIFs with duration of each frame specified in seconds\n",
    "img.save(fp='London_NO2_test2.gif', format='GIF', append_images=imgs,save_all=True,duration=1,loop=0)"
   ]
  },
  {
   "cell_type": "code",
   "execution_count": null,
   "id": "61d1ea19",
   "metadata": {},
   "outputs": [],
   "source": [
    "##############################################################################################\n",
    "# Compare the speed (Soluiton 2 is faster than 1 on my PC)\n",
    "\n",
    "import timeit\n",
    "start = timeit.default_timer()\n",
    "\n",
    "# put your codes here\n",
    "\n",
    "stop = timeit.default_timer()\n",
    "print('Time: ', stop - start)  "
   ]
  },
  {
   "cell_type": "markdown",
   "id": "6d085171",
   "metadata": {},
   "source": [
    "### These are very basic codes to generate GIFs with pros and cons. \n",
    "### Pros: \n",
    "- easy to use\n",
    "- fast\n",
    "- safe\n",
    "- unlimited file size (opposite to online tools)\n",
    "- preserved aspect ratio from input images\n",
    "\n",
    "### Cons: \n",
    "- lack of controls of the output (but sometimes you can control input images)\n",
    "\n",
    "### Known issues:\n",
    "- The color bars may appear inconsistent, but you can overlie a static color bar image in the powerpoint to cover this. "
   ]
  }
 ],
 "metadata": {
  "kernelspec": {
   "display_name": "Python 3 (ipykernel)",
   "language": "python",
   "name": "python3"
  },
  "language_info": {
   "codemirror_mode": {
    "name": "ipython",
    "version": 3
   },
   "file_extension": ".py",
   "mimetype": "text/x-python",
   "name": "python",
   "nbconvert_exporter": "python",
   "pygments_lexer": "ipython3",
   "version": "3.9.7"
  }
 },
 "nbformat": 4,
 "nbformat_minor": 5
}
