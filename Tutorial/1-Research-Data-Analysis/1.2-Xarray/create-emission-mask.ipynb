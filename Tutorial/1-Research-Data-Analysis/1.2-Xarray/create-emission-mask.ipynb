{
 "cells": [
  {
   "cell_type": "markdown",
   "id": "d93eb781",
   "metadata": {},
   "source": [
    "# Creating emission masks for the GEOS-Chem model\n",
    "\n",
    "## Here I show how to use Xarray to create model masks over northern China"
   ]
  },
  {
   "cell_type": "code",
   "execution_count": null,
   "id": "292ad8d2",
   "metadata": {},
   "outputs": [],
   "source": [
    "# load packages\n",
    "import os\n",
    "import sys\n",
    "import numpy as np\n",
    "import xarray as xr\n",
    "import pandas as pd"
   ]
  },
  {
   "cell_type": "code",
   "execution_count": null,
   "id": "a945e40b",
   "metadata": {},
   "outputs": [],
   "source": [
    "###########################################################################################################################\n",
    "# HEMCO can process your masks and adjust it to the model resolutions that you choose\n",
    "# but we can still prepare our masks at the model resolution directly\n",
    "# here I use nested GEOS-Chem model over Asia at 05x0625 as the example\n",
    "###########################################################################################################################\n",
    "# decide the mask domain over North China Plain (NCP) at 05x0625\n",
    "# first learn from the example, check grids in the model outputs\n",
    "\n",
    "# find a sample model output file, and get the lat and lon\n",
    "os.chdir(\"/rds/projects/2018/maraisea-glu-01/RDS/GEOSChem/MASK\")\n",
    "sample_data = xr.open_dataset(\"sample_GEOS-Chem_output_AS_nested.nc4\")\n",
    "print(\"GEOS-Chem model output lon:\",sample_data['lon'],\"#\"*50,\"GEOS-Chem model output lat:\",sample_data['lat'],\"#\"*50,sep=\"\\n\")\n",
    "\n",
    "# list lons and lats for GEOS-Chem grid centres, not the domain boundaries\n",
    "NCP_lon = np.arange(107.5,120+5/16,5/8) # use (min,max+1/2 resolution,resolution) so that you can keep the maximum\n",
    "NCP_lat = np.arange(32,43+1/4,1/2)\n",
    "time = np.array(['2020-01-01T00:00:00.000000000'], dtype='datetime64[ns]')\n",
    "print(\"Your lon:\",NCP_lon,\"#\"*50,\"Your lat:\",NCP_lat,\"#\"*50,sep=\"\\n\")\n",
    "\n",
    "# you can double check if default GEOS-Chem grids contain all the NCP_lon and NCP_lat you've created\n",
    "set1 = set(NCP_lon.flatten())\n",
    "set2 = set(sample_data['lon'].values)\n",
    "set3 = set(NCP_lat.flatten())\n",
    "set4 = set(sample_data['lat'].values)\n",
    "print(\"Do default GEOS-Chem grids contain all your lon and lat?\",set1.issubset(set2),set3.issubset(set4),sep=\"\\n\")"
   ]
  },
  {
   "cell_type": "code",
   "execution_count": null,
   "id": "0b1fbacc",
   "metadata": {},
   "outputs": [],
   "source": [
    "###########################################################################################################################\n",
    "# now make the masks matching the same dimensions\n",
    "\n",
    "# example 1: emission mask for CO, with the scale factor of 5 or any number you like\n",
    "\n",
    "# first assign values and convert to xarray data arrays\n",
    "NCP_mask_CO = np.full((1,len(NCP_lat),len(NCP_lon)), 5)\n",
    "NCP_mask_CO = xr.DataArray(NCP_mask_CO, coords=[('time',time),('lat', NCP_lat),('lon', NCP_lon)])\n",
    "\n",
    "# provide details of the xarray data array as these will appear in the output file\n",
    "NCP_mask_CO.name = \"MASK\"\n",
    "NCP_mask_CO['lon'].attrs = {'long_name':'Longitude','units':'degrees_east','axis':'X'}\n",
    "NCP_mask_CO['lat'].attrs = {'long_name':'Latitude','units':'degrees_north','axis':'Y'}\n",
    "NCP_mask_CO.attrs = {'long_name':'CO emission mask for North China Plain','units':'unitless'}\n",
    "\n",
    "# output\n",
    "NCP_mask_CO.to_netcdf(\"NCP_CO_mask.nc\")"
   ]
  },
  {
   "cell_type": "code",
   "execution_count": null,
   "id": "8ce14421",
   "metadata": {},
   "outputs": [],
   "source": [
    "###########################################################################################################################\n",
    "# To verify your results, you can\n",
    "\n",
    "# Method 1: build a quick plot function to plot the mask values\n",
    "%matplotlib inline\n",
    "import matplotlib.pyplot as plt\n",
    "import cartopy.crs as ccrs\n",
    "import geopandas as gpd\n",
    "\n",
    "# read shapefile\n",
    "os.chdir(\"/rds/projects/2018/maraisea-glu-01/Study/Research_Data/BTH/domain/gadm36_CHN_shp\")\n",
    "China_provinces = gpd.read_file(\"gadm36_CHN_1.shp\")\n",
    "\n",
    "# just check the data ranges from the default colorbar scheme\n",
    "def quick_plot(input_xr):\n",
    "    t= plt.axes(projection=ccrs.PlateCarree())\n",
    "    t.set_extent([100, 125, 30, 45], crs=ccrs.PlateCarree()) # [lon,lon,lat,lat]\n",
    "    t.add_geometries(China_provinces.geometry, crs=ccrs.PlateCarree(),edgecolor='black',facecolor='none')\n",
    "    input_xr['MASK'].plot(ax=t,cmap='jet')\n",
    "###########################################################################################################################\n",
    "# Method 2: view all scale factors in pandas dataframes\n",
    "\n",
    "# open the mask that you created\n",
    "NCP_CO_mask  = xr.open_dataset(\"NCP_CO_mask.nc\")\n",
    "NCP_CO_mask  = NCP_CO_mask['MASK'].to_dataset(name='CO_mask_value')\n",
    "\n",
    "# convert the xarrays to a single pandas dataframe\n",
    "def xr_to_df(data):\n",
    "    data = data.to_dataframe()\n",
    "    data.reset_index(inplace=True)\n",
    "    return data\n",
    "\n",
    "# view in pandas data frames\n",
    "NCP_CO_mask_df = xr_to_df(NCP_CO_mask)\n",
    "display(NCP_CO_mask_df)\n",
    "###########################################################################################################################"
   ]
  }
 ],
 "metadata": {
  "kernelspec": {
   "display_name": "Python 3 (ipykernel)",
   "language": "python",
   "name": "python3"
  },
  "language_info": {
   "codemirror_mode": {
    "name": "ipython",
    "version": 3
   },
   "file_extension": ".py",
   "mimetype": "text/x-python",
   "name": "python",
   "nbconvert_exporter": "python",
   "pygments_lexer": "ipython3",
   "version": "3.9.7"
  }
 },
 "nbformat": 4,
 "nbformat_minor": 5
}
