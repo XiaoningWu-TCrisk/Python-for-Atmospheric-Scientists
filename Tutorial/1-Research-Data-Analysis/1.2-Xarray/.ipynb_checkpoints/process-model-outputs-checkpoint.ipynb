{
 "cells": [
  {
   "cell_type": "markdown",
   "id": "c26ab0c0",
   "metadata": {},
   "source": [
    "# Process GEOS-Chem model outputs using Xarray\n",
    "Xarray is a powerful Python package designed for processing ND arrays. It is pretty smart at handling NetCDF4 files, like GEOS-Chem outputs. You can find many useful functions on [its homepage](http://xarray.pydata.org/en/stable/). There is also a very excellent [Python/xarray tutorial for GEOS-Chem users](https://github.com/geoschem/GEOSChem-python-tutorial) written by GEOS-Chem experts.\n",
    "\n",
    "## Here I just show some examples of using Xarray to process GEOS-Chem outputs."
   ]
  },
  {
   "cell_type": "code",
   "execution_count": null,
   "id": "76af65e0",
   "metadata": {},
   "outputs": [],
   "source": [
    "###########################################################################################################################\n",
    "# load packages\n",
    "\n",
    "import os\n",
    "import glob\n",
    "import numpy  as np\n",
    "import pandas as pd\n",
    "import xarray as xr"
   ]
  },
  {
   "cell_type": "code",
   "execution_count": null,
   "id": "3b349dde",
   "metadata": {},
   "outputs": [],
   "source": [
    "###########################################################################################################################\n",
    "# set up working direcotry\n",
    "\n",
    "os.chdir(\"move-to-your-working-directory\")\n",
    "\n",
    "# you can check the chosen directory\n",
    "print(os.getcwd())"
   ]
  },
  {
   "cell_type": "code",
   "execution_count": null,
   "id": "937c7e98",
   "metadata": {},
   "outputs": [],
   "source": [
    "# find GEOS-Chem output files\n",
    "Species  = sorted(glob.glob(\"GEOSChem.SpeciesConc*.nc4\"))\n",
    "StateMet = sorted(glob.glob(\"GEOSChem.StateMet*.nc4\"))\n",
    "Aerosols = sorted(glob.glob(\"GEOSChem.AerosolMass*nc4\"))\n",
    "\n",
    "# check the selected files\n",
    "print(*Species,*StateMet,*Aerosols, sep = \"\\n\")"
   ]
  },
  {
   "cell_type": "code",
   "execution_count": null,
   "id": "e5a88d2c",
   "metadata": {},
   "outputs": [],
   "source": [
    "'''\n",
    "# syntax to open a single netcdf file\n",
    "data = xr.open_dataset(\"filename\")\n",
    "\n",
    "# then you can use \"for loop\" to open multiple netcdf files\n",
    "data_all = []\n",
    "\n",
    "for i in range(len(files)):\n",
    "    data_all.append(xr.open_dataset(files[i])\n",
    "'''\n"
   ]
  },
  {
   "cell_type": "code",
   "execution_count": null,
   "id": "6c715eff",
   "metadata": {},
   "outputs": [],
   "source": [
    "# here we use \"list compreshensions\" to extract data fields from GC output files \n",
    "# \"list compreshensions\" are equivalent to \"for loops\"\n",
    "# syntax: list_B = [do_sth(object) for object in list_A] \n",
    "Species  = [xr.open_dataset(file) for file in Species]\n",
    "StateMet = [xr.open_dataset(file) for file in StateMet]\n",
    "Aerosols = [xr.open_dataset(file) for file in Aerosols]"
   ]
  },
  {
   "cell_type": "code",
   "execution_count": null,
   "id": "5362001f",
   "metadata": {},
   "outputs": [],
   "source": [
    "# surface layer data\n",
    "surface_NO2 = [data['SpeciesConc_NO2'].isel(time=0,lev=0) for data in Species]\n",
    "surface_SO2 = [data['SpeciesConc_SO2'].isel(time=0,lev=0) for data in Species]\n",
    "surface_PM  = [data['PM25'].isel(time=0,lev=0) for data in Aerosols]\n",
    "\n",
    "# convert unit for gases (dry mol/mol to ug/m3)\n",
    "surface_AIRNUMDEN = [data['Met_AIRNUMDEN'].isel(time=0,lev=0) for data in StateMet]\n",
    "surface_NO2_mass  = [x*y*46/(6.022*1e11) for (x,y) in zip(surface_NO2,surface_AIRNUMDEN)]\n",
    "surface_SO2_mass  = [x*y*64/(6.022*1e11) for (x,y) in zip(surface_SO2,surface_AIRNUMDEN)]\n",
    "\n",
    "# calculate averages         \n",
    "model_NO2 = sum(surface_NO2_mass)/len(surface_NO2_mass)\n",
    "model_SO2 = sum(surface_SO2_mass)/len(surface_SO2_mass)\n",
    "model_PM  = sum(surface_PM)/len(surface_PM)\n",
    "\n",
    "# recover the names for the gaseous\n",
    "model_NO2 = model_NO2.rename(surface_NO2[0].name)\n",
    "model_SO2 = model_SO2.rename(surface_SO2[0].name)"
   ]
  },
  {
   "cell_type": "code",
   "execution_count": null,
   "id": "c39bdd73",
   "metadata": {},
   "outputs": [],
   "source": [
    "# now re-arrange the extraced model results\n",
    "\n",
    "# combine the variables\n",
    "model_output = xr.merge([model_NO2,\n",
    "                         model_SO2,\n",
    "                         model_PM])"
   ]
  },
  {
   "cell_type": "code",
   "execution_count": null,
   "id": "32783f48",
   "metadata": {},
   "outputs": [],
   "source": [
    "# subset data over Northern China (NCP)\n",
    "model_output_NCP = model_output.sel(lat=slice(32,43),lon=slice(107.5,120))"
   ]
  },
  {
   "cell_type": "code",
   "execution_count": null,
   "id": "23664f09",
   "metadata": {},
   "outputs": [],
   "source": [
    "# check your data results\n",
    "display(model_output_NCP)"
   ]
  },
  {
   "cell_type": "code",
   "execution_count": null,
   "id": "efe591ce",
   "metadata": {},
   "outputs": [],
   "source": [
    "# you can also convert xarray data arrays to a single pandas data frame\n",
    "def xr_to_df(data):\n",
    "    data = data.to_dataframe()\n",
    "    data.reset_index(inplace=True)\n",
    "    return data\n",
    "\n",
    "model_output_NCP_df = xr_to_df(model_output_NCP)\n",
    "\n",
    "# drop the unwanted column\n",
    "model_output_NCP_df = model_output_NCP_df.drop(['lev'], axis=1)\n",
    "\n",
    "# fix the columnnames for easy comparison with surface data in future\n",
    "model_output_NCP_df = model_output_NCP_df.rename(columns={\"SpeciesConc_NO2\": \"GEOSChem_NO2\",\n",
    "                                                          \"SpeciesConc_SO2\": \"GEOSChem_SO2\",\n",
    "                                                          \"PM25\": \"GEOSChem_PM\"})"
   ]
  },
  {
   "cell_type": "code",
   "execution_count": null,
   "id": "34efb760",
   "metadata": {},
   "outputs": [],
   "source": [
    "# check the output dataframe\n",
    "# check the \"lat\" and \"lon\"\n",
    "# this is consistent with R results, but Python draws the map row by row, from bottom-left to top-right\n",
    "# Python is prefered over R here\n",
    "print(model_output_NCP_df)"
   ]
  }
 ],
 "metadata": {
  "kernelspec": {
   "display_name": "Python 3 (ipykernel)",
   "language": "python",
   "name": "python3"
  },
  "language_info": {
   "codemirror_mode": {
    "name": "ipython",
    "version": 3
   },
   "file_extension": ".py",
   "mimetype": "text/x-python",
   "name": "python",
   "nbconvert_exporter": "python",
   "pygments_lexer": "ipython3",
   "version": "3.9.7"
  }
 },
 "nbformat": 4,
 "nbformat_minor": 5
}
