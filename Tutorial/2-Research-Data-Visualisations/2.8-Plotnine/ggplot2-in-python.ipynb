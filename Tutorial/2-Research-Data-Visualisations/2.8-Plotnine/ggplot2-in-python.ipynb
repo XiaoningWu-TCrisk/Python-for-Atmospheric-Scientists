{
 "cells": [
  {
   "cell_type": "markdown",
   "id": "22e00966",
   "metadata": {},
   "source": [
    "# [Plotnine](https://plotnine.readthedocs.io/en/stable/): almost a Python clone of ggplot2 in R"
   ]
  },
  {
   "cell_type": "code",
   "execution_count": null,
   "id": "ebbadd11",
   "metadata": {},
   "outputs": [],
   "source": [
    "##############################################################################################\n",
    "##############################################################################################\n",
    "# \"ggplot2\" is a very powerful R package for data visualisation.\n",
    "# In Python, you can use \"plotnine\" to run R codes from ggplot2, but with the Python coating.\n",
    "\n",
    "# Also\n",
    "# check out sth like this: https://github.com/yhat/ggpy\n",
    "# https://pypi.org/project/ggplot/\n",
    "##############################################################################################\n",
    "# Example: \n",
    "\n",
    "# read a sample data\n",
    "import os \n",
    "import pandas as pd\n",
    "os.chdir('your-working-directory')\n",
    "sample_data = pd.read_csv(\"some-data-frame.csv\")\n",
    "\n",
    "# import the plotnine package\n",
    "import plotnine as p9\n",
    "\n",
    "# make a scatter plot using \"geom_point\" from \"ggplot2\"\n",
    "Test_plot = (p9.ggplot(sample_data)  +\n",
    "             p9.xlim(0,0.5)   +\n",
    "             p9.ylim(0,0.5)   +\n",
    "             p9.coord_fixed() +\n",
    "             p9.geom_point(aes('var_x','var_y'),size = 20,color='red'))\n",
    "\n",
    "# show the plot (just like in ggplot2!)\n",
    "Test_plot\n",
    "\n",
    "# save out the figure (just like in ggplot2!)\n",
    "Test_plot.save('test.png',dpi=300,width = 20, height = 20)\n",
    "##############################################################################################\n",
    "# Remarks: \"plotnine\" certainly provides a straighforward way to use \"ggplot2\" in Python.\n",
    "#           But things like \"patchwork\" seems to be not possible at least by now, need to consider how to combine multiple plots.\n",
    "\n",
    "# End\n",
    "##############################################################################################"
   ]
  }
 ],
 "metadata": {
  "kernelspec": {
   "display_name": "Python 3 (ipykernel)",
   "language": "python",
   "name": "python3"
  },
  "language_info": {
   "codemirror_mode": {
    "name": "ipython",
    "version": 3
   },
   "file_extension": ".py",
   "mimetype": "text/x-python",
   "name": "python",
   "nbconvert_exporter": "python",
   "pygments_lexer": "ipython3",
   "version": "3.9.7"
  }
 },
 "nbformat": 4,
 "nbformat_minor": 5
}
